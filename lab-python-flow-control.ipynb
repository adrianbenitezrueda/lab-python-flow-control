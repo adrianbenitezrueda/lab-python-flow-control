{
 "cells": [
  {
   "cell_type": "markdown",
   "id": "d3bfc191-8885-42ee-b0a0-bbab867c6f9f",
   "metadata": {
    "tags": []
   },
   "source": [
    "# Lab | Flow Control"
   ]
  },
  {
   "cell_type": "markdown",
   "id": "3851fcd1-cf98-4653-9c89-e003b7ec9400",
   "metadata": {},
   "source": [
    "## Exercise: Managing Customer Orders Optimized\n",
    "\n",
    "In the last lab, you were starting an online store that sells various products. To ensure smooth operations, you developed a program that manages customer orders and inventory.\n",
    "\n",
    "You did so without using flow control. Let's go a step further and improve this code.\n",
    "\n",
    "Follow the steps below to complete the exercise:\n",
    "\n",
    "1. Look at your code from the lab data structures, and improve repeated code with loops.\n",
    "\n",
    "2. Instead of asking the user to input the name of three products that a customer wants to order, do the following:\n",
    "    \n",
    "    a. Prompt the user to enter the name of a product that a customer wants to order.\n",
    "    \n",
    "    b. Add the product name to the \"customer_orders\" set.\n",
    "    \n",
    "    c. Ask the user if they want to add another product (yes/no).\n",
    "    \n",
    "    d. Continue the loop until the user does not want to add another product.\n",
    "\n",
    "3. Instead of updating the inventory by subtracting 1 from the quantity of each product, only do it for  the products that were ordered (those in \"customer_orders\")."
   ]
  },
  {
   "cell_type": "code",
   "execution_count": 4,
   "id": "3b3590d8",
   "metadata": {},
   "outputs": [],
   "source": [
    "# 1. Look at your code from the lab data structures, and improve repeated code with loops.\n",
    "# Define a list called `products` that contains the following items: \"t-shirt\", \"mug\", \"hat\", \"book\", \"keychain\".\n",
    "\n",
    "products = [\"t-shirt\", \"mug\", \"hat\", \"book\", \"keychain\"]\n",
    "\n",
    "\n",
    "# Create an empty dictionary called `inventory`.\n",
    "\n",
    "inventory = {}\n",
    "\n",
    "\n",
    "# Ask the user to input the quantity of each product available in the inventory. Use the product names from the `products` list as keys in the `inventory` dictionary and assign the respective quantities as values.\n",
    "\n",
    "for product in products:\n",
    "    quantity = int(input(f\"Give me the quantity of {product}: \"))\n",
    "    inventory[product] = quantity \n",
    "\n",
    "\n",
    "# Create an empty set called `customer_orders`.\n",
    "\n",
    "customer_orders = set()"
   ]
  },
  {
   "cell_type": "code",
   "execution_count": 5,
   "id": "6ee78ef4",
   "metadata": {},
   "outputs": [
    {
     "name": "stdout",
     "output_type": "stream",
     "text": [
      "chair is not available. Please choose from: ['t-shirt', 'mug', 'hat', 'book', 'keychain']\n",
      "\n",
      "Customer orders are: {'book', 'hat', 'mug', 'keychain'}\n",
      "\n",
      "Order Statistics:\n",
      "Total Products Ordered:  4 \n",
      "Percentage of Products Ordered:  80.0%\n"
     ]
    }
   ],
   "source": [
    "# 2. Instead of asking the user to input the name of three products that a customer wants to order, do the following:\n",
    "# 2a. Prompt the user to enter the name of a product that a customer wants to order.\n",
    "# 2b. Add the product name to the \"customer_orders\" set.\n",
    "# 2c. Ask the user if they want to add another product (yes/no).\n",
    "# 2d. Continue the loop until the user does not want to add another product.\n",
    "\n",
    "while len(customer_orders) < len(products):\n",
    "    order = input(f\"What product do you want?: \").strip().lower()\n",
    "    if order in products:\n",
    "        customer_orders.add(order)\n",
    "        add_more = input(\"Do you want to add another product? Yes or no? \").strip().lower()\n",
    "        \n",
    "        if add_more == \"no\":\n",
    "            break\n",
    "\n",
    "    else:\n",
    "        print(f\"{order} is not available. Please choose from: {products}\")\n",
    "        \n",
    "\n",
    "# Print the products in the `customer_orders` set.\n",
    "\n",
    "print(\"\\nCustomer orders are:\", customer_orders)\n",
    "\n",
    "# Calculate the following order statistics:\n",
    "# - Total Products Ordered: The total number of products in the `customer_orders` set.\n",
    "# - Percentage of Products Ordered: The percentage of products ordered compared to the total available products.\n",
    "\n",
    "total_products_ordered = len(customer_orders) #Lenght the number of products in customer order\n",
    "percentage_ordered = str((total_products_ordered / len(inventory))*100) + \"%\" # Calculate percentage between products ordered and inventory\n",
    "   \n",
    "# Store these statistics in a tuple called `order_status`.\n",
    "\n",
    "order_status = {total_products_ordered, percentage_ordered}\n",
    "\n",
    "\n",
    "# Print the order statistics using the following format:\n",
    "\n",
    "print(\"\\nOrder Statistics:\\nTotal Products Ordered: \",total_products_ordered, \"\\nPercentage of Products Ordered: \", percentage_ordered)\n",
    " "
   ]
  },
  {
   "cell_type": "code",
   "execution_count": 6,
   "id": "c955cd23",
   "metadata": {},
   "outputs": [],
   "source": [
    "#3. Instead of updating the inventory by subtracting 1 from the quantity of each product, only do it for  the products that were ordered (those in \"customer_orders\").\n",
    "\n",
    "for product in customer_orders:\n",
    "    inventory[product] -= 1"
   ]
  },
  {
   "cell_type": "code",
   "execution_count": 7,
   "id": "1a5a8622",
   "metadata": {},
   "outputs": [
    {
     "name": "stdout",
     "output_type": "stream",
     "text": [
      "\n",
      "Updated Inventory:\n",
      "t-shirt: 5\n",
      "mug: 9\n",
      "hat: 14\n",
      "book: 19\n",
      "keychain: 24\n"
     ]
    }
   ],
   "source": [
    "# Print the updated inventory, displaying the quantity of each product on separate lines.\n",
    "\n",
    "print(\"\\nUpdated Inventory:\")\n",
    "for product, quantity in inventory.items():\n",
    "    print(f\"{product}: {quantity}\")\n"
   ]
  }
 ],
 "metadata": {
  "kernelspec": {
   "display_name": "Python 3 (ipykernel)",
   "language": "python",
   "name": "python3"
  },
  "language_info": {
   "codemirror_mode": {
    "name": "ipython",
    "version": 3
   },
   "file_extension": ".py",
   "mimetype": "text/x-python",
   "name": "python",
   "nbconvert_exporter": "python",
   "pygments_lexer": "ipython3",
   "version": "3.12.4"
  }
 },
 "nbformat": 4,
 "nbformat_minor": 5
}
